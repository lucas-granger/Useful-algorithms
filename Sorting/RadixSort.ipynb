{
 "cells": [
  {
   "cell_type": "markdown",
   "metadata": {},
   "source": [
    "## Radix Sort"
   ]
  },
  {
   "cell_type": "markdown",
   "metadata": {},
   "source": [
    "**Definition :** Radix Sort is a non-comparative sorting algorithm that sorts numbers digit by digit, starting from the least significant digit (rightmost) to the most significant digit, using a stable sort like counting sort at each digit level."
   ]
  },
  {
   "cell_type": "code",
   "execution_count": 1,
   "metadata": {},
   "outputs": [],
   "source": [
    "unsorted_list = [26, 14, 6, 8, 4, 58, 52, 130, 48]"
   ]
  },
  {
   "cell_type": "markdown",
   "metadata": {},
   "source": [
    "#### **Implementation** "
   ]
  },
  {
   "cell_type": "markdown",
   "metadata": {},
   "source": [
    "We will need a function to get the number which has the maximum number of digits."
   ]
  },
  {
   "cell_type": "code",
   "execution_count": 2,
   "metadata": {},
   "outputs": [],
   "source": [
    "def find_number_with_max_digits(arr):\n",
    "    if not arr:\n",
    "        return None\n",
    "\n",
    "    number_with_max_digits = max(arr, key=lambda num: len(str(abs(num))))\n",
    "    return len(str(abs(number_with_max_digits)))\n"
   ]
  },
  {
   "cell_type": "markdown",
   "metadata": {},
   "source": [
    "The number returned by the function is 3 corresponding to the maximum number of digits for one element (130)"
   ]
  },
  {
   "cell_type": "code",
   "execution_count": 3,
   "metadata": {},
   "outputs": [
    {
     "data": {
      "text/plain": [
       "3"
      ]
     },
     "execution_count": 3,
     "metadata": {},
     "output_type": "execute_result"
    }
   ],
   "source": [
    "find_number_with_max_digits(unsorted_list)"
   ]
  },
  {
   "cell_type": "markdown",
   "metadata": {},
   "source": [
    "First, we figure out how many digits the biggest number has. For each digit position (from the least significant to the most), we group all numbers into 10 buckets (one for each digit 0–9) depending on the digit at the current position. Once all numbers are placed into their buckets, we flatten the buckets back into a list, preserving the order. We repeat this process for each digit position."
   ]
  },
  {
   "cell_type": "code",
   "execution_count": 4,
   "metadata": {},
   "outputs": [],
   "source": [
    "def radix_sort(arr):\n",
    "\n",
    "    sorted_array = arr[:]\n",
    "    n = len(sorted_array)\n",
    "    max_digits = find_number_with_max_digits(arr)\n",
    "\n",
    "    for i in range(0, max_digits):\n",
    "        buckets = [[] for _ in range(10)]\n",
    "        for j in range(0, n):\n",
    "            nth_digit = 0 if abs(sorted_array[j]) < 10**i else (abs(sorted_array[j]) // 10**i) % 10\n",
    "            buckets[nth_digit].append(sorted_array[j])\n",
    "        sorted_array = sum(buckets, [])\n",
    "    return sorted_array"
   ]
  },
  {
   "cell_type": "markdown",
   "metadata": {},
   "source": [
    "#### **Testing**"
   ]
  },
  {
   "cell_type": "markdown",
   "metadata": {},
   "source": [
    "We can check that the output of our example is sorted."
   ]
  },
  {
   "cell_type": "code",
   "execution_count": 5,
   "metadata": {},
   "outputs": [
    {
     "data": {
      "text/plain": [
       "[4, 6, 8, 14, 26, 48, 52, 58, 130]"
      ]
     },
     "execution_count": 5,
     "metadata": {},
     "output_type": "execute_result"
    }
   ],
   "source": [
    "radix_sort(unsorted_list)"
   ]
  }
 ],
 "metadata": {
  "kernelspec": {
   "display_name": "Python 3",
   "language": "python",
   "name": "python3"
  },
  "language_info": {
   "codemirror_mode": {
    "name": "ipython",
    "version": 3
   },
   "file_extension": ".py",
   "mimetype": "text/x-python",
   "name": "python",
   "nbconvert_exporter": "python",
   "pygments_lexer": "ipython3",
   "version": "3.12.0"
  }
 },
 "nbformat": 4,
 "nbformat_minor": 2
}
