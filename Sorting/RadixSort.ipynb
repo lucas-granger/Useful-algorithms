{
 "cells": [
  {
   "cell_type": "code",
   "execution_count": 6,
   "metadata": {},
   "outputs": [],
   "source": [
    "unsorted_list = [26, 14, 6, 8, 4, 58, 52, 130, 48]"
   ]
  },
  {
   "cell_type": "code",
   "execution_count": 7,
   "metadata": {},
   "outputs": [],
   "source": [
    "def find_number_with_max_digits(arr):\n",
    "    if not arr:\n",
    "        return None\n",
    "\n",
    "    number_with_max_digits = max(arr, key=lambda num: len(str(abs(num))))\n",
    "    return len(str(abs(number_with_max_digits)))\n"
   ]
  },
  {
   "cell_type": "code",
   "execution_count": 8,
   "metadata": {},
   "outputs": [
    {
     "data": {
      "text/plain": [
       "3"
      ]
     },
     "execution_count": 8,
     "metadata": {},
     "output_type": "execute_result"
    }
   ],
   "source": [
    "find_number_with_max_digits(unsorted_list)"
   ]
  },
  {
   "cell_type": "code",
   "execution_count": 26,
   "metadata": {},
   "outputs": [],
   "source": [
    "def radix_sort(arr):\n",
    "\n",
    "    sorted_array = arr[:]\n",
    "    n = len(sorted_array)\n",
    "    max_digits = find_number_with_max_digits(arr)\n",
    "\n",
    "    for i in range(0, max_digits):\n",
    "        buckets = [[] for _ in range(10)]\n",
    "        for j in range(0, n):\n",
    "            nth_digit = 0 if abs(sorted_array[j]) < 10**i else (abs(sorted_array[j]) // 10**i) % 10\n",
    "            buckets[nth_digit].append(sorted_array[j])\n",
    "        sorted_array = sum(buckets, [])\n",
    "    return sorted_array"
   ]
  },
  {
   "cell_type": "code",
   "execution_count": 27,
   "metadata": {},
   "outputs": [
    {
     "data": {
      "text/plain": [
       "[4, 6, 8, 14, 26, 48, 52, 58, 130]"
      ]
     },
     "execution_count": 27,
     "metadata": {},
     "output_type": "execute_result"
    }
   ],
   "source": [
    "radix_sort(unsorted_list)"
   ]
  },
  {
   "cell_type": "code",
   "execution_count": null,
   "metadata": {},
   "outputs": [],
   "source": []
  }
 ],
 "metadata": {
  "kernelspec": {
   "display_name": "Python 3",
   "language": "python",
   "name": "python3"
  },
  "language_info": {
   "codemirror_mode": {
    "name": "ipython",
    "version": 3
   },
   "file_extension": ".py",
   "mimetype": "text/x-python",
   "name": "python",
   "nbconvert_exporter": "python",
   "pygments_lexer": "ipython3",
   "version": "3.12.0"
  }
 },
 "nbformat": 4,
 "nbformat_minor": 2
}
