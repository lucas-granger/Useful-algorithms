{
 "cells": [
  {
   "cell_type": "markdown",
   "metadata": {},
   "source": [
    "## Insertion Sort"
   ]
  },
  {
   "cell_type": "markdown",
   "metadata": {},
   "source": [
    "**Definition :** Insertion Sort is a sorting algorithm that sorts a list one element at a time by inserting each new item into its correct position among the previously sorted elements."
   ]
  },
  {
   "cell_type": "code",
   "execution_count": 1,
   "metadata": {},
   "outputs": [],
   "source": [
    "unsorted_list = [26, 14, 6, 8, 4, 58, 52, 13, 48]"
   ]
  },
  {
   "cell_type": "markdown",
   "metadata": {},
   "source": [
    "#### **Implementation**"
   ]
  },
  {
   "cell_type": "markdown",
   "metadata": {},
   "source": [
    "We start by assuming the first element is sorted. We then look at the next element and compare it to the ones before.\n",
    "\n",
    "If it's smaller, we move it left until it's in the right position. We repeat this process for each new element: we insert it into its correct place among the elements already sorted. As we go, the left part of the list grows sorted one element at a time, until the entire list is in order."
   ]
  },
  {
   "cell_type": "code",
   "execution_count": 2,
   "metadata": {},
   "outputs": [],
   "source": [
    "def insertionSort(arr):\n",
    "    sorted_array = arr[:]\n",
    "    n = len(sorted_array)\n",
    "\n",
    "    for i in range (1, n):\n",
    "        j = i\n",
    "        while j > 0 and sorted_array[j] < sorted_array[j-1]:\n",
    "            sorted_array[j], sorted_array[j-1] = sorted_array[j-1], sorted_array[j]\n",
    "            j=j-1\n",
    "    return sorted_array"
   ]
  },
  {
   "cell_type": "markdown",
   "metadata": {},
   "source": [
    "#### **Testing**"
   ]
  },
  {
   "cell_type": "markdown",
   "metadata": {},
   "source": [
    "We can check that the output of our example is sorted."
   ]
  },
  {
   "cell_type": "code",
   "execution_count": 3,
   "metadata": {},
   "outputs": [
    {
     "data": {
      "text/plain": [
       "[4, 6, 8, 13, 14, 26, 48, 52, 58]"
      ]
     },
     "execution_count": 3,
     "metadata": {},
     "output_type": "execute_result"
    }
   ],
   "source": [
    "insertionSort(unsorted_list)"
   ]
  }
 ],
 "metadata": {
  "kernelspec": {
   "display_name": "Python 3",
   "language": "python",
   "name": "python3"
  },
  "language_info": {
   "codemirror_mode": {
    "name": "ipython",
    "version": 3
   },
   "file_extension": ".py",
   "mimetype": "text/x-python",
   "name": "python",
   "nbconvert_exporter": "python",
   "pygments_lexer": "ipython3",
   "version": "3.12.0"
  }
 },
 "nbformat": 4,
 "nbformat_minor": 2
}
