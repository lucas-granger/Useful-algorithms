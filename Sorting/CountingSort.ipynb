{
 "cells": [
  {
   "cell_type": "code",
   "execution_count": 9,
   "metadata": {},
   "outputs": [],
   "source": [
    "unsorted_list = [26, 14, 6, 8, 4, 58, 52, 130, 48]"
   ]
  },
  {
   "cell_type": "code",
   "execution_count": 10,
   "metadata": {},
   "outputs": [],
   "source": [
    "def countSort(arr):\n",
    "    min_val = min(arr)\n",
    "    max_val = max(arr)\n",
    "    range_of_elements = max_val - min_val + 1\n",
    "\n",
    "    count = [0] * range_of_elements\n",
    "\n",
    "    for number in arr:\n",
    "        count[number - min_val] += 1\n",
    "\n",
    "    for i in range(1, range_of_elements):\n",
    "        count[i] += count[i - 1]\n",
    "\n",
    "    sorted_array = [0] * len(arr)\n",
    "\n",
    "    for number in reversed(arr):\n",
    "        count_index = number - min_val\n",
    "        sorted_array_index = count[count_index] - 1\n",
    "        sorted_array[sorted_array_index] = number\n",
    "        count[count_index] -= 1\n",
    "\n",
    "    return sorted_array\n"
   ]
  },
  {
   "cell_type": "code",
   "execution_count": 11,
   "metadata": {},
   "outputs": [
    {
     "data": {
      "text/plain": [
       "[4, 6, 8, 14, 26, 48, 52, 58, 130]"
      ]
     },
     "execution_count": 11,
     "metadata": {},
     "output_type": "execute_result"
    }
   ],
   "source": [
    "countSort(unsorted_list)"
   ]
  },
  {
   "cell_type": "code",
   "execution_count": null,
   "metadata": {},
   "outputs": [],
   "source": []
  }
 ],
 "metadata": {
  "kernelspec": {
   "display_name": "Python 3",
   "language": "python",
   "name": "python3"
  },
  "language_info": {
   "codemirror_mode": {
    "name": "ipython",
    "version": 3
   },
   "file_extension": ".py",
   "mimetype": "text/x-python",
   "name": "python",
   "nbconvert_exporter": "python",
   "pygments_lexer": "ipython3",
   "version": "3.12.0"
  }
 },
 "nbformat": 4,
 "nbformat_minor": 2
}
