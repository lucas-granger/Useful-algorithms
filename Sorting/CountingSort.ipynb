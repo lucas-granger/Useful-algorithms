{
 "cells": [
  {
   "cell_type": "markdown",
   "metadata": {},
   "source": [
    "## Counting Sort"
   ]
  },
  {
   "cell_type": "markdown",
   "metadata": {},
   "source": [
    "**Definition :** Counting Sort is a sorting algorithm that counts how many times each value appears, then uses this count to place elements directly in their sorted position."
   ]
  },
  {
   "cell_type": "code",
   "execution_count": 1,
   "metadata": {},
   "outputs": [],
   "source": [
    "unsorted_list = [26, 14, 6, 8, 4, 58, 52, 130, 48]"
   ]
  },
  {
   "cell_type": "markdown",
   "metadata": {},
   "source": [
    "#### **Implementation**"
   ]
  },
  {
   "cell_type": "markdown",
   "metadata": {},
   "source": [
    "We start by identifying the smallest and largest values in the list. This helps us determine the range of possible values.\n",
    "\n",
    "After that, we create a list (called count) to record how many times each number appears. After that, we convert this count list into a list of positions, so we know where each number should go in the final sorted array. Finally, we go through the original list in reverse, and for each number, we place it directly into its correct position in the result."
   ]
  },
  {
   "cell_type": "code",
   "execution_count": 2,
   "metadata": {},
   "outputs": [],
   "source": [
    "def countSort(arr):\n",
    "    min_val = min(arr)\n",
    "    max_val = max(arr)\n",
    "    range_of_elements = max_val - min_val + 1\n",
    "\n",
    "    count = [0] * range_of_elements\n",
    "\n",
    "    for number in arr:\n",
    "        count[number - min_val] += 1\n",
    "\n",
    "    for i in range(1, range_of_elements):\n",
    "        count[i] += count[i - 1]\n",
    "\n",
    "    sorted_array = [0] * len(arr)\n",
    "\n",
    "    for number in reversed(arr):\n",
    "        count_index = number - min_val\n",
    "        sorted_array_index = count[count_index] - 1\n",
    "        sorted_array[sorted_array_index] = number\n",
    "        count[count_index] -= 1\n",
    "\n",
    "    return sorted_array"
   ]
  },
  {
   "cell_type": "markdown",
   "metadata": {},
   "source": [
    "#### **Testing**"
   ]
  },
  {
   "cell_type": "markdown",
   "metadata": {},
   "source": [
    "We can check that the output of our example will be the letters a to i in alphabetical order."
   ]
  },
  {
   "cell_type": "code",
   "execution_count": 3,
   "metadata": {},
   "outputs": [
    {
     "data": {
      "text/plain": [
       "[4, 6, 8, 14, 26, 48, 52, 58, 130]"
      ]
     },
     "execution_count": 3,
     "metadata": {},
     "output_type": "execute_result"
    }
   ],
   "source": [
    "countSort(unsorted_list)"
   ]
  }
 ],
 "metadata": {
  "kernelspec": {
   "display_name": "Python 3",
   "language": "python",
   "name": "python3"
  },
  "language_info": {
   "codemirror_mode": {
    "name": "ipython",
    "version": 3
   },
   "file_extension": ".py",
   "mimetype": "text/x-python",
   "name": "python",
   "nbconvert_exporter": "python",
   "pygments_lexer": "ipython3",
   "version": "3.12.0"
  }
 },
 "nbformat": 4,
 "nbformat_minor": 2
}
