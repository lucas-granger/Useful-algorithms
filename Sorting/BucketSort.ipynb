{
 "cells": [
  {
   "cell_type": "markdown",
   "metadata": {},
   "source": [
    "## Bucket Sort"
   ]
  },
  {
   "cell_type": "markdown",
   "metadata": {},
   "source": [
    "**Definition :** Bucket Sort is a sorting algorithm that divides elements into several \"buckets\", sorts each bucket individually (often with another algorithm like insertion sort), and then concatenates the buckets to get the final sorted list."
   ]
  },
  {
   "cell_type": "code",
   "execution_count": 1,
   "metadata": {},
   "outputs": [],
   "source": [
    "unsorted_list = [26, 14, 6, 8, 4, 58, 52, 130, 48]"
   ]
  },
  {
   "cell_type": "markdown",
   "metadata": {},
   "source": [
    "#### **Implementation**"
   ]
  },
  {
   "cell_type": "markdown",
   "metadata": {},
   "source": [
    "We first find the smallest and largest values in the list to determine the overall range. The rangeis then divided into equal intervals, each representing a \"bucket\".\n",
    "\n",
    "Each number from the list is then placed into a bucket depending on its value. If the number is closer to the start of the range, it goes in an earlier bucket. If it’s closer to the end, it goes into a later one.\n",
    "\n",
    "Once all numbers are distributed, we sort each bucket individually and then combine all buckets back together."
   ]
  },
  {
   "cell_type": "code",
   "execution_count": 2,
   "metadata": {},
   "outputs": [],
   "source": [
    "def bucketSort(arr):\n",
    "    max_val = max(arr)\n",
    "    min_val = min(arr)\n",
    "    value_range = max_val - min_val\n",
    "\n",
    "    num_buckets = len(arr)\n",
    "    bucket_range_size = (max_val - min_val + 1) / num_buckets\n",
    "\n",
    "    # Ensure bucket_range_size is at least 1 to prevent issues with very small ranges\n",
    "    if bucket_range_size < 1:\n",
    "        bucket_range_size = 1\n",
    "\n",
    "    buckets = [[] for _ in range(num_buckets)]\n",
    "\n",
    "    for x in arr:\n",
    "        bucket_index = int((x - min_val) / bucket_range_size)\n",
    "        if bucket_index >= num_buckets:\n",
    "            bucket_index = num_buckets - 1\n",
    "        buckets[bucket_index].append(x)\n",
    "    for i in range(num_buckets):\n",
    "        buckets[i].sort()\n",
    "\n",
    "    sorted_arr = []\n",
    "    for bucket in buckets:\n",
    "        sorted_arr.extend(bucket)\n",
    "\n",
    "    return sorted_arr"
   ]
  },
  {
   "cell_type": "markdown",
   "metadata": {},
   "source": [
    "#### **Testing**"
   ]
  },
  {
   "cell_type": "markdown",
   "metadata": {},
   "source": [
    "We can check that the output of our example will be the letters a to i in alphabetical order."
   ]
  },
  {
   "cell_type": "code",
   "execution_count": 3,
   "metadata": {},
   "outputs": [
    {
     "data": {
      "text/plain": [
       "[4, 6, 8, 14, 26, 48, 52, 58, 130]"
      ]
     },
     "execution_count": 3,
     "metadata": {},
     "output_type": "execute_result"
    }
   ],
   "source": [
    "bucketSort(unsorted_list)"
   ]
  }
 ],
 "metadata": {
  "kernelspec": {
   "display_name": "Python 3",
   "language": "python",
   "name": "python3"
  },
  "language_info": {
   "codemirror_mode": {
    "name": "ipython",
    "version": 3
   },
   "file_extension": ".py",
   "mimetype": "text/x-python",
   "name": "python",
   "nbconvert_exporter": "python",
   "pygments_lexer": "ipython3",
   "version": "3.12.0"
  }
 },
 "nbformat": 4,
 "nbformat_minor": 2
}
