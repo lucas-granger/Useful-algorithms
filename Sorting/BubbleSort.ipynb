{
 "cells": [
  {
   "cell_type": "code",
   "execution_count": 4,
   "metadata": {},
   "outputs": [],
   "source": [
    "unsorted_list = [26, 14, 6, 8, 4, 58, 52, 13, 48]\n",
    "sorted_list = [4, 6, 8, 13, 14, 26, 48, 52, 58]"
   ]
  },
  {
   "cell_type": "code",
   "execution_count": 5,
   "metadata": {},
   "outputs": [],
   "source": [
    "def bubbleSort(arr):\n",
    "    sorted_array = arr[:]\n",
    "    n = len(sorted_array)\n",
    "    \n",
    "    # Traverse through all array elements\n",
    "    for i in range(n):\n",
    "        swapped = False\n",
    "\n",
    "        # Last i elements are already in place\n",
    "        for j in range(0, n-i-1):\n",
    "\n",
    "            # Traverse the array from 0 to n-i-1\n",
    "            # Swap if the element found is greater\n",
    "            # than the next element\n",
    "            if sorted_array[j] > sorted_array[j+1]:\n",
    "                sorted_array[j], sorted_array[j+1] = sorted_array[j+1], sorted_array[j]\n",
    "                swapped = True\n",
    "        if (swapped == False):\n",
    "            break\n",
    "    return sorted_array"
   ]
  },
  {
   "cell_type": "code",
   "execution_count": 6,
   "metadata": {},
   "outputs": [
    {
     "data": {
      "text/plain": [
       "[4, 6, 8, 13, 14, 26, 48, 52, 58]"
      ]
     },
     "execution_count": 6,
     "metadata": {},
     "output_type": "execute_result"
    }
   ],
   "source": [
    "bubbleSort(unsorted_list)"
   ]
  }
 ],
 "metadata": {
  "kernelspec": {
   "display_name": "Python 3",
   "language": "python",
   "name": "python3"
  },
  "language_info": {
   "codemirror_mode": {
    "name": "ipython",
    "version": 3
   },
   "file_extension": ".py",
   "mimetype": "text/x-python",
   "name": "python",
   "nbconvert_exporter": "python",
   "pygments_lexer": "ipython3",
   "version": "3.12.0"
  }
 },
 "nbformat": 4,
 "nbformat_minor": 2
}
