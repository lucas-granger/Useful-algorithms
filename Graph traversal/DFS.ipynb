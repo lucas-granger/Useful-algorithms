{
 "cells": [
  {
   "cell_type": "markdown",
   "metadata": {},
   "source": [
    "## DFS (Depth-First Search)"
   ]
  },
  {
   "cell_type": "markdown",
   "metadata": {},
   "source": [
    "**Definition :** DFS is an algorithm for traversing a tree or graph vertically. "
   ]
  },
  {
   "cell_type": "code",
   "execution_count": 1,
   "metadata": {},
   "outputs": [],
   "source": [
    "my_dict = {\n",
    "    \"a\": [\"b\", \"g\"],\n",
    "    \"b\": [ \"c\", \"d\", \"e\"],\n",
    "    \"e\": [\"f\"],\n",
    "    \"g\": [\"h\"],\n",
    "    \"h\": [\"i\"]\n",
    "}"
   ]
  },
  {
   "cell_type": "markdown",
   "metadata": {},
   "source": [
    "In the above code, I have defined a tree. Its representation is shown in the image below."
   ]
  },
  {
   "attachments": {
    "image.png": {
     "image/png": "[encoded data removed]"
    }
   },
   "cell_type": "markdown",
   "metadata": {},
   "source": [
    "![image.png](attachment:image.png)"
   ]
  },
  {
   "cell_type": "markdown",
   "metadata": {},
   "source": [
    "#### **Implementation**"
   ]
  },
  {
   "cell_type": "markdown",
   "metadata": {},
   "source": [
    "Here, we start from a node (often the root of the tree). We then place this node in the list of nodes to visit (called the stack).\n",
    "\n",
    "Now, as long as the list of nodes to visit is not empty, the algorithm will continue and each time a node is visited, its children will be added to the list of nodes to visit.\n",
    "\n",
    "The difference with BFS is that the nodes added won't be placed at the end of the list but will be the next to be visited."
   ]
  },
  {
   "cell_type": "code",
   "execution_count": 2,
   "metadata": {},
   "outputs": [],
   "source": [
    "def dfs(graph, start_node):\n",
    "    visited = []\n",
    "    stack = []\n",
    "\n",
    "    if start_node not in graph:\n",
    "        return []\n",
    "\n",
    "    stack.append(start_node)\n",
    "\n",
    "    while stack:\n",
    "        node = stack.pop()\n",
    "        if node not in visited:\n",
    "            visited.append(node)\n",
    "\n",
    "            if node in graph:\n",
    "                for neighbor in reversed(graph[node]):\n",
    "                    stack.append(neighbor)\n",
    "    return visited"
   ]
  },
  {
   "cell_type": "markdown",
   "metadata": {},
   "source": [
    "#### **Testing**"
   ]
  },
  {
   "cell_type": "markdown",
   "metadata": {},
   "source": [
    "We can check that the output of our example will be the letters a to i in alphabetical order."
   ]
  },
  {
   "cell_type": "code",
   "execution_count": 3,
   "metadata": {},
   "outputs": [
    {
     "data": {
      "text/plain": [
       "['a', 'b', 'c', 'd', 'e', 'f', 'g', 'h', 'i']"
      ]
     },
     "execution_count": 3,
     "metadata": {},
     "output_type": "execute_result"
    }
   ],
   "source": [
    "dfs(my_dict, 'a')"
   ]
  },
  {
   "cell_type": "markdown",
   "metadata": {},
   "source": [
    "#### **Real-life problem**"
   ]
  },
  {
   "cell_type": "markdown",
   "metadata": {},
   "source": [
    "Among other things, this algorithm can be used to find all paths and performs very well with a maze.\n",
    "\n",
    "Let's imagine we have a maze and we can only go top, bottom, left or right. In this case, we can use the DFS to go through all the paths to find the start and the end."
   ]
  },
  {
   "cell_type": "code",
   "execution_count": 4,
   "metadata": {},
   "outputs": [],
   "source": [
    "def solve_maze_dfs(maze, start_coords, end_coords):\n",
    "    rows = len(maze)\n",
    "    cols = len(maze[0])\n",
    "    \n",
    "    # Stack stores tuples: (current_coords, path_to_current_coords)\n",
    "    stack = [(start_coords, [start_coords])]\n",
    "    \n",
    "    visited = set()\n",
    "    visited.add(start_coords)\n",
    "\n",
    "    print(f\"Starting maze search from {start_coords} to {end_coords}...\")\n",
    "\n",
    "    # Define possible moves (up, down, left, right)\n",
    "    dr = [-1, 1, 0, 0] # Change in row: up, down, no change, no change\n",
    "    dc = [0, 0, -1, 1] # Change in col: no change, no change, left, right\n",
    "\n",
    "    while stack:\n",
    "        current_coords, path = stack.pop()\n",
    "\n",
    "        print(f\"  Exploring from: {current_coords} (Path so far: {path})\")\n",
    "\n",
    "        if current_coords == end_coords:\n",
    "            print(f\"  Destination {end_coords} reached!\")\n",
    "            return path\n",
    "\n",
    "        for i in range(4): # Iterate through the 4 possible directions\n",
    "            next_row, next_col = current_coords[0] + dr[i], current_coords[1] + dc[i]\n",
    "            next_coords = (next_row, next_col)\n",
    "\n",
    "            # Check if the next coordinates are within maze bounds\n",
    "            is_valid_row = 0 <= next_row < rows\n",
    "            is_valid_col = 0 <= next_col < cols\n",
    "\n",
    "            if is_valid_row and is_valid_col:\n",
    "                # Check if the next cell is not a wall and not already visited\n",
    "                if maze[next_row][next_col] != '#' and next_coords not in visited:\n",
    "                    visited.add(next_coords)\n",
    "                    new_path = path + [next_coords]\n",
    "                    stack.append((next_coords, new_path))\n",
    "                    print(f\"    Adding neighbor: {next_coords} (New path: {new_path})\")\n",
    "\n",
    "    # If the stack becomes empty and destination was not found\n",
    "    print(f\"No path found from {start_coords} to {end_coords}.\")\n",
    "    return None"
   ]
  },
  {
   "cell_type": "code",
   "execution_count": 5,
   "metadata": {},
   "outputs": [],
   "source": [
    "# --- Example Usage: A Simple Maze ---\n",
    "# S = Start, E = End, # = Wall, . = Path\n",
    "\n",
    "# Scenario 1: A maze with walls and a clear path\n",
    "sample_maze = [\n",
    "    ['S', '#', '.', '#', '.', '.'],\n",
    "    ['.', '#', '.', '#', '.', '#'],\n",
    "    ['.', '.', '.', '.', '.', '.'],\n",
    "    ['#', '#', '.', '#', '#', '.'],\n",
    "    ['.', '.', '.', '.', '.', '.'],\n",
    "    ['.', '#', '#', '.', '#', 'E']\n",
    "]"
   ]
  },
  {
   "attachments": {
    "image.png": {
     "image/png": "[encoded data removed]"
    }
   },
   "cell_type": "markdown",
   "metadata": {},
   "source": [
    "![image.png](attachment:image.png)"
   ]
  },
  {
   "cell_type": "code",
   "execution_count": 6,
   "metadata": {},
   "outputs": [
    {
     "name": "stdout",
     "output_type": "stream",
     "text": [
      "--- Scenario 1: Solving a path in a larger maze ---\n",
      "Starting maze search from (0, 0) to (5, 5)...\n",
      "  Exploring from: (0, 0) (Path so far: [(0, 0)])\n",
      "    Adding neighbor: (1, 0) (New path: [(0, 0), (1, 0)])\n",
      "  Exploring from: (1, 0) (Path so far: [(0, 0), (1, 0)])\n",
      "    Adding neighbor: (2, 0) (New path: [(0, 0), (1, 0), (2, 0)])\n",
      "  Exploring from: (2, 0) (Path so far: [(0, 0), (1, 0), (2, 0)])\n",
      "    Adding neighbor: (2, 1) (New path: [(0, 0), (1, 0), (2, 0), (2, 1)])\n",
      "  Exploring from: (2, 1) (Path so far: [(0, 0), (1, 0), (2, 0), (2, 1)])\n",
      "    Adding neighbor: (2, 2) (New path: [(0, 0), (1, 0), (2, 0), (2, 1), (2, 2)])\n",
      "  Exploring from: (2, 2) (Path so far: [(0, 0), (1, 0), (2, 0), (2, 1), (2, 2)])\n",
      "    Adding neighbor: (1, 2) (New path: [(0, 0), (1, 0), (2, 0), (2, 1), (2, 2), (1, 2)])\n",
      "    Adding neighbor: (3, 2) (New path: [(0, 0), (1, 0), (2, 0), (2, 1), (2, 2), (3, 2)])\n",
      "    Adding neighbor: (2, 3) (New path: [(0, 0), (1, 0), (2, 0), (2, 1), (2, 2), (2, 3)])\n",
      "  Exploring from: (2, 3) (Path so far: [(0, 0), (1, 0), (2, 0), (2, 1), (2, 2), (2, 3)])\n",
      "    Adding neighbor: (2, 4) (New path: [(0, 0), (1, 0), (2, 0), (2, 1), (2, 2), (2, 3), (2, 4)])\n",
      "  Exploring from: (2, 4) (Path so far: [(0, 0), (1, 0), (2, 0), (2, 1), (2, 2), (2, 3), (2, 4)])\n",
      "    Adding neighbor: (1, 4) (New path: [(0, 0), (1, 0), (2, 0), (2, 1), (2, 2), (2, 3), (2, 4), (1, 4)])\n",
      "    Adding neighbor: (2, 5) (New path: [(0, 0), (1, 0), (2, 0), (2, 1), (2, 2), (2, 3), (2, 4), (2, 5)])\n",
      "  Exploring from: (2, 5) (Path so far: [(0, 0), (1, 0), (2, 0), (2, 1), (2, 2), (2, 3), (2, 4), (2, 5)])\n",
      "    Adding neighbor: (3, 5) (New path: [(0, 0), (1, 0), (2, 0), (2, 1), (2, 2), (2, 3), (2, 4), (2, 5), (3, 5)])\n",
      "  Exploring from: (3, 5) (Path so far: [(0, 0), (1, 0), (2, 0), (2, 1), (2, 2), (2, 3), (2, 4), (2, 5), (3, 5)])\n",
      "    Adding neighbor: (4, 5) (New path: [(0, 0), (1, 0), (2, 0), (2, 1), (2, 2), (2, 3), (2, 4), (2, 5), (3, 5), (4, 5)])\n",
      "  Exploring from: (4, 5) (Path so far: [(0, 0), (1, 0), (2, 0), (2, 1), (2, 2), (2, 3), (2, 4), (2, 5), (3, 5), (4, 5)])\n",
      "    Adding neighbor: (5, 5) (New path: [(0, 0), (1, 0), (2, 0), (2, 1), (2, 2), (2, 3), (2, 4), (2, 5), (3, 5), (4, 5), (5, 5)])\n",
      "    Adding neighbor: (4, 4) (New path: [(0, 0), (1, 0), (2, 0), (2, 1), (2, 2), (2, 3), (2, 4), (2, 5), (3, 5), (4, 5), (4, 4)])\n",
      "  Exploring from: (4, 4) (Path so far: [(0, 0), (1, 0), (2, 0), (2, 1), (2, 2), (2, 3), (2, 4), (2, 5), (3, 5), (4, 5), (4, 4)])\n",
      "    Adding neighbor: (4, 3) (New path: [(0, 0), (1, 0), (2, 0), (2, 1), (2, 2), (2, 3), (2, 4), (2, 5), (3, 5), (4, 5), (4, 4), (4, 3)])\n",
      "  Exploring from: (4, 3) (Path so far: [(0, 0), (1, 0), (2, 0), (2, 1), (2, 2), (2, 3), (2, 4), (2, 5), (3, 5), (4, 5), (4, 4), (4, 3)])\n",
      "    Adding neighbor: (5, 3) (New path: [(0, 0), (1, 0), (2, 0), (2, 1), (2, 2), (2, 3), (2, 4), (2, 5), (3, 5), (4, 5), (4, 4), (4, 3), (5, 3)])\n",
      "    Adding neighbor: (4, 2) (New path: [(0, 0), (1, 0), (2, 0), (2, 1), (2, 2), (2, 3), (2, 4), (2, 5), (3, 5), (4, 5), (4, 4), (4, 3), (4, 2)])\n",
      "  Exploring from: (4, 2) (Path so far: [(0, 0), (1, 0), (2, 0), (2, 1), (2, 2), (2, 3), (2, 4), (2, 5), (3, 5), (4, 5), (4, 4), (4, 3), (4, 2)])\n",
      "    Adding neighbor: (4, 1) (New path: [(0, 0), (1, 0), (2, 0), (2, 1), (2, 2), (2, 3), (2, 4), (2, 5), (3, 5), (4, 5), (4, 4), (4, 3), (4, 2), (4, 1)])\n",
      "  Exploring from: (4, 1) (Path so far: [(0, 0), (1, 0), (2, 0), (2, 1), (2, 2), (2, 3), (2, 4), (2, 5), (3, 5), (4, 5), (4, 4), (4, 3), (4, 2), (4, 1)])\n",
      "    Adding neighbor: (4, 0) (New path: [(0, 0), (1, 0), (2, 0), (2, 1), (2, 2), (2, 3), (2, 4), (2, 5), (3, 5), (4, 5), (4, 4), (4, 3), (4, 2), (4, 1), (4, 0)])\n",
      "  Exploring from: (4, 0) (Path so far: [(0, 0), (1, 0), (2, 0), (2, 1), (2, 2), (2, 3), (2, 4), (2, 5), (3, 5), (4, 5), (4, 4), (4, 3), (4, 2), (4, 1), (4, 0)])\n",
      "    Adding neighbor: (5, 0) (New path: [(0, 0), (1, 0), (2, 0), (2, 1), (2, 2), (2, 3), (2, 4), (2, 5), (3, 5), (4, 5), (4, 4), (4, 3), (4, 2), (4, 1), (4, 0), (5, 0)])\n",
      "  Exploring from: (5, 0) (Path so far: [(0, 0), (1, 0), (2, 0), (2, 1), (2, 2), (2, 3), (2, 4), (2, 5), (3, 5), (4, 5), (4, 4), (4, 3), (4, 2), (4, 1), (4, 0), (5, 0)])\n",
      "  Exploring from: (5, 3) (Path so far: [(0, 0), (1, 0), (2, 0), (2, 1), (2, 2), (2, 3), (2, 4), (2, 5), (3, 5), (4, 5), (4, 4), (4, 3), (5, 3)])\n",
      "  Exploring from: (5, 5) (Path so far: [(0, 0), (1, 0), (2, 0), (2, 1), (2, 2), (2, 3), (2, 4), (2, 5), (3, 5), (4, 5), (5, 5)])\n",
      "  Destination (5, 5) reached!\n",
      "\n",
      "Path found: [(0, 0), (1, 0), (2, 0), (2, 1), (2, 2), (2, 3), (2, 4), (2, 5), (3, 5), (4, 5), (5, 5)]\n",
      "\n",
      "Maze with path:\n",
      "S # . # . .\n",
      "* # . # . #\n",
      "* * * * * *\n",
      "# # . # # *\n",
      ". . . . . *\n",
      ". # # . # E\n"
     ]
    }
   ],
   "source": [
    "# Find start and end coordinates for sample_maze\n",
    "start_coords = None\n",
    "end_coords = None\n",
    "for r in range(len(sample_maze)):\n",
    "    for c in range(len(sample_maze[0])):\n",
    "        if sample_maze[r][c] == 'S':\n",
    "            start_coords = (r, c)\n",
    "        elif sample_maze[r][c] == 'E':\n",
    "            end_coords = (r, c)\n",
    "\n",
    "print(\"--- Scenario 1: Solving a path in a larger maze ---\")\n",
    "path_found = solve_maze_dfs(sample_maze, start_coords, end_coords)\n",
    "\n",
    "if path_found:\n",
    "    print(f\"\\nPath found: {path_found}\")\n",
    "    display_maze = [row[:] for row in sample_maze]\n",
    "    for r, c in path_found:\n",
    "        if display_maze[r][c] not in ['S', 'E']:\n",
    "            display_maze[r][c] = '*' # Mark path with an asterisk\n",
    "    print(\"\\nMaze with path:\")\n",
    "    for row in display_maze:\n",
    "        print(\" \".join(row))\n",
    "else:\n",
    "    print(\"\\nCould not find a path in the maze.\")"
   ]
  },
  {
   "cell_type": "markdown",
   "metadata": {},
   "source": [
    "**Path found**"
   ]
  },
  {
   "attachments": {
    "image.png": {
     "image/png": "[encoded data removed]"
    }
   },
   "cell_type": "markdown",
   "metadata": {},
   "source": [
    "![image.png](attachment:image.png)"
   ]
  }
 ],
 "metadata": {
  "kernelspec": {
   "display_name": "Python 3",
   "language": "python",
   "name": "python3"
  },
  "language_info": {
   "codemirror_mode": {
    "name": "ipython",
    "version": 3
   },
   "file_extension": ".py",
   "mimetype": "text/x-python",
   "name": "python",
   "nbconvert_exporter": "python",
   "pygments_lexer": "ipython3",
   "version": "3.12.0"
  }
 },
 "nbformat": 4,
 "nbformat_minor": 2
}
