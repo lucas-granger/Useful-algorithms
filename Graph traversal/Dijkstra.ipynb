{
 "cells": [
  {
   "cell_type": "markdown",
   "id": "9ea61789",
   "metadata": {},
   "source": [
    "# Dijkstra’s Algorithm"
   ]
  },
  {
   "cell_type": "markdown",
   "id": "cfc58061",
   "metadata": {},
   "source": [
    "**Definition** : Dijkstra algorithm finds the shortest path from a starting node to all other nodes in a weighted graph."
   ]
  },
  {
   "cell_type": "code",
   "execution_count": 2,
   "id": "50ddd076",
   "metadata": {},
   "outputs": [],
   "source": [
    "graph = {\n",
    "    'A': [('B', 1), ('C', 4)],\n",
    "    'B': [('C', 2), ('D', 5)],\n",
    "    'C': [('D', 1)],\n",
    "    'D': []\n",
    "}"
   ]
  },
  {
   "cell_type": "markdown",
   "id": "bba1a56d",
   "metadata": {},
   "source": [
    "In the above code, a weighted graph is defined whose representation is shown below.\n",
    "\n",
    "Note that this way to define the weighted graph allows unidirectional moves (A → B but no B → A)."
   ]
  },
  {
   "attachments": {
    "image.png": {
     "image/png": "[encoded data removed]"
    }
   },
   "cell_type": "markdown",
   "id": "69a5973d",
   "metadata": {},
   "source": [
    "![image.png](attachment:image.png)"
   ]
  },
  {
   "cell_type": "markdown",
   "id": "ae1d789d",
   "metadata": {},
   "source": [
    "#### **Implementation**"
   ]
  },
  {
   "cell_type": "markdown",
   "id": "0bd6fac8",
   "metadata": {},
   "source": [
    "Here, we start from a source node. We then place this node, along with its initial distance of zero, into a priority queue (which acts like a min-heap).\n",
    "\n",
    "Now, as long as there are nodes in our priority queue, the algorithm continues. Each time, we extract the node with the smallest known distance from the queue. If we've already found a shorter path to this node, we simply skip it. Otherwise, for each of its neighbors, we calculate a potential new, shorter distance by adding the current node's distance to the edge weight connecting it to the neighbor.\n",
    "\n",
    "If this new distance is indeed shorter than what we previously knew for that neighbor, we update the neighbor's shortest distance and add the neighbor (with its new, shorter distance) back into the priority queue.\n",
    "\n",
    "The crucial difference from a simple Breadth-First Search (BFS) or Depth-First Search (DFS) is the priority queue: instead of visiting nodes in a strict order (like FIFO for BFS or LIFO for DFS), Dijkstra always prioritizes visiting the unvisited node closest to the starting point. This ensures that when we process a node, we've found the shortest path to it."
   ]
  },
  {
   "cell_type": "code",
   "execution_count": null,
   "id": "df45ac88",
   "metadata": {},
   "outputs": [],
   "source": [
    "import heapq\n",
    "\n",
    "def dijkstra(graph, start):\n",
    "    distances = {node: float('inf') for node in graph}\n",
    "    distances[start] = 0\n",
    "    \n",
    "    priority_queue = [(0, start)]  # (distance, node)\n",
    "    \n",
    "    while priority_queue:\n",
    "        current_distance, current_node = heapq.heappop(priority_queue)\n",
    "\n",
    "        if current_distance > distances[current_node]:\n",
    "            continue\n",
    "\n",
    "        for neighbor, weight in graph[current_node]:\n",
    "            distance = current_distance + weight\n",
    "            if distance < distances[neighbor]:\n",
    "                distances[neighbor] = distance\n",
    "                heapq.heappush(priority_queue, (distance, neighbor))\n",
    "                \n",
    "    return distances"
   ]
  },
  {
   "cell_type": "markdown",
   "id": "eb2ae388",
   "metadata": {},
   "source": [
    "#### **Testing**"
   ]
  },
  {
   "cell_type": "markdown",
   "id": "f4c8f13f",
   "metadata": {},
   "source": [
    "We can check that the output of our example will be 1 for A → B, 3 for A → C and 4 for A → D."
   ]
  },
  {
   "cell_type": "code",
   "execution_count": 5,
   "id": "63d37346",
   "metadata": {},
   "outputs": [
    {
     "name": "stdout",
     "output_type": "stream",
     "text": [
      "Shortest distance from A to A: 0\n",
      "Shortest distance from A to B: 1\n",
      "Shortest distance from A to C: 3\n",
      "Shortest distance from A to D: 4\n"
     ]
    }
   ],
   "source": [
    "start_node = 'A'\n",
    "shortest_paths = dijkstra(graph, start_node)\n",
    "\n",
    "# Output distances\n",
    "for node in shortest_paths:\n",
    "    print(f\"Shortest distance from {start_node} to {node}: {shortest_paths[node]}\")"
   ]
  }
 ],
 "metadata": {
  "kernelspec": {
   "display_name": "Python 3",
   "language": "python",
   "name": "python3"
  },
  "language_info": {
   "codemirror_mode": {
    "name": "ipython",
    "version": 3
   },
   "file_extension": ".py",
   "mimetype": "text/x-python",
   "name": "python",
   "nbconvert_exporter": "python",
   "pygments_lexer": "ipython3",
   "version": "3.12.0"
  }
 },
 "nbformat": 4,
 "nbformat_minor": 5
}
