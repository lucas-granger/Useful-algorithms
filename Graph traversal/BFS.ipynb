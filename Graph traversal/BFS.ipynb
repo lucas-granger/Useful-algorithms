{
 "cells": [
  {
   "cell_type": "code",
   "execution_count": 3,
   "metadata": {},
   "outputs": [],
   "source": [
    "my_dict = {\n",
    "    \"a\": [\"b\", \"c\"],\n",
    "    \"b\": [\"d\", \"e\", \"f\"],\n",
    "    \"c\": [\"g\"],\n",
    "    \"f\": [\"h\"],\n",
    "    \"g\": [\"i\"]\n",
    "}"
   ]
  },
  {
   "cell_type": "code",
   "execution_count": 12,
   "metadata": {},
   "outputs": [],
   "source": [
    "\"\"\"\n",
    "    Performs Breadth-First Search on a graph.\n",
    "\n",
    "    Args:\n",
    "        graph: A dictionary representing the graph.\n",
    "        start_node: The node to start the search from.\n",
    "\n",
    "    Returns:\n",
    "        A list of nodes visited in BFS order.\n",
    "\"\"\"\n",
    "\n",
    "def bfs(graph, start_node):\n",
    "    visited = []  # List to store visited nodes\n",
    "    queue = [start_node]  # Queue for BFS\n",
    "    visited.append(start_node)\n",
    "\n",
    "    if start_node not in graph:\n",
    "        return []\n",
    "\n",
    "    while queue:\n",
    "        node = queue.pop(0)  # Dequeue the first node\n",
    "\n",
    "        if node in graph:\n",
    "            for neighbor in graph[node]:  # Iterate through neighbors of the current node\n",
    "                if neighbor not in visited:\n",
    "                    visited.append(neighbor)\n",
    "                    queue.append(neighbor)  # Enqueue the neighbors\n",
    "    return visited"
   ]
  },
  {
   "cell_type": "code",
   "execution_count": 13,
   "metadata": {},
   "outputs": [
    {
     "data": {
      "text/plain": [
       "['a', 'b', 'c', 'd', 'e', 'f', 'g', 'h', 'i']"
      ]
     },
     "execution_count": 13,
     "metadata": {},
     "output_type": "execute_result"
    }
   ],
   "source": [
    "bfs(my_dict, 'a')"
   ]
  },
  {
   "cell_type": "code",
   "execution_count": 14,
   "metadata": {},
   "outputs": [],
   "source": [
    "file_dependencies = {\n",
    "    \"main.py\": [\"utils.py\", \"config.py\"],\n",
    "    \"utils.py\": [\"logger.py\"],\n",
    "    \"config.py\": [\"utils.py\"],  # Dépendance circulaire\n",
    "    \"logger.py\": [],\n",
    "    \"data_processor.py\": [\"utils.py\", \"database.py\"],\n",
    "    \"database.py\": []\n",
    "}"
   ]
  },
  {
   "cell_type": "code",
   "execution_count": null,
   "metadata": {},
   "outputs": [],
   "source": []
  }
 ],
 "metadata": {
  "kernelspec": {
   "display_name": "Python 3",
   "language": "python",
   "name": "python3"
  },
  "language_info": {
   "codemirror_mode": {
    "name": "ipython",
    "version": 3
   },
   "file_extension": ".py",
   "mimetype": "text/x-python",
   "name": "python",
   "nbconvert_exporter": "python",
   "pygments_lexer": "ipython3",
   "version": "3.12.0"
  }
 },
 "nbformat": 4,
 "nbformat_minor": 2
}
