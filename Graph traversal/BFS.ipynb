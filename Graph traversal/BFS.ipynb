{
 "cells": [
  {
   "cell_type": "markdown",
   "metadata": {},
   "source": [
    "## BFS (Breadth-First Search)"
   ]
  },
  {
   "cell_type": "markdown",
   "metadata": {},
   "source": [
    "**Definition :** BFS is an algorithm for traversing a tree or graph horizontally. "
   ]
  },
  {
   "cell_type": "code",
   "execution_count": 1,
   "metadata": {},
   "outputs": [],
   "source": [
    "my_dict = {\n",
    "    \"a\": [\"b\", \"c\"],\n",
    "    \"b\": [\"d\", \"e\", \"f\"],\n",
    "    \"c\": [\"g\"],\n",
    "    \"f\": [\"h\"],\n",
    "    \"g\": [\"i\"]\n",
    "}"
   ]
  },
  {
   "cell_type": "markdown",
   "metadata": {},
   "source": [
    "In the above code, I have defined a tree. Its representation is shown in the image below."
   ]
  },
  {
   "attachments": {
    "image.png": {
     "image/png": "[encoded data removed]"
    }
   },
   "cell_type": "markdown",
   "metadata": {},
   "source": [
    "![image.png](attachment:image.png)"
   ]
  },
  {
   "cell_type": "markdown",
   "metadata": {},
   "source": [
    "#### **Implementation**"
   ]
  },
  {
   "cell_type": "markdown",
   "metadata": {},
   "source": [
    "Here, we start from a node (often the root of the tree). We then place this node in the list of nodes to visit (called the queue). Now, as long as the list of nodes to visit is not empty, the algorithm will continue and each time a node is visited, its children will be added to the list of nodes to visit."
   ]
  },
  {
   "cell_type": "code",
   "execution_count": 2,
   "metadata": {},
   "outputs": [],
   "source": [
    "def bfs(graph, start_node):\n",
    "    visited = []  # List to store visited nodes\n",
    "    queue = [start_node]  # Queue for BFS\n",
    "    visited.append(start_node)\n",
    "\n",
    "    if start_node not in graph:\n",
    "        return []\n",
    "\n",
    "    while queue:\n",
    "        node = queue.pop(0)  # Dequeue the first node\n",
    "\n",
    "        if node in graph:\n",
    "            for neighbor in graph[node]:  # Iterate through neighbors of the current node\n",
    "                if neighbor not in visited:\n",
    "                    visited.append(neighbor)\n",
    "                    queue.append(neighbor)  # Enqueue the neighbors\n",
    "    return visited"
   ]
  },
  {
   "cell_type": "markdown",
   "metadata": {},
   "source": [
    "#### **Testing**"
   ]
  },
  {
   "cell_type": "markdown",
   "metadata": {},
   "source": [
    "We can check that the output of our example will be the letters a to i in alphabetical order."
   ]
  },
  {
   "cell_type": "code",
   "execution_count": 3,
   "metadata": {},
   "outputs": [
    {
     "data": {
      "text/plain": [
       "['a', 'b', 'c', 'd', 'e', 'f', 'g', 'h', 'i']"
      ]
     },
     "execution_count": 3,
     "metadata": {},
     "output_type": "execute_result"
    }
   ],
   "source": [
    "bfs(my_dict, 'a')"
   ]
  },
  {
   "cell_type": "markdown",
   "metadata": {},
   "source": [
    "#### **Real-life problem**"
   ]
  },
  {
   "cell_type": "markdown",
   "metadata": {},
   "source": [
    "Among other things, this algorithm can be used to find the shortest path between two nodes.\n",
    "\n",
    "Let's imagine we have a map of a city and we can only go from one point to another by certain paths. In this case, we can use the BFS to go through all the paths to find the shortest one."
   ]
  },
  {
   "cell_type": "code",
   "execution_count": 4,
   "metadata": {},
   "outputs": [],
   "source": [
    "import collections\n",
    "\n",
    "def find_shortest_route(city_map, start_location, destination):\n",
    "    if start_location not in city_map or destination not in city_map:\n",
    "        print(f\"Error: Start '{start_location}' or destination '{destination}' not found in the map.\")\n",
    "        return None\n",
    "\n",
    "    # Queue stores tuples: (current_location, path_to_current_location)\n",
    "    queue = collections.deque([(start_location, [start_location])])\n",
    "\n",
    "    visited = {start_location}\n",
    "\n",
    "    print(f\"Starting route search from '{start_location}' to '{destination}'...\")\n",
    "\n",
    "    while queue:\n",
    "        current_location, path = queue.popleft()\n",
    "\n",
    "        print(f\"  Exploring from: {current_location} (Path so far: {path})\")\n",
    "\n",
    "        if current_location == destination:\n",
    "            print(f\"  Destination '{destination}' reached!\")\n",
    "            return path\n",
    "\n",
    "        # Explore neighbors of the current location\n",
    "        for neighbor in city_map.get(current_location, []):\n",
    "            if neighbor not in visited:\n",
    "                visited.add(neighbor)\n",
    "                new_path = path + [neighbor]\n",
    "                queue.append((neighbor, new_path))\n",
    "                print(f\"    Adding neighbor: {neighbor} (New path: {new_path})\")\n",
    "\n",
    "    print(f\"No route found from '{start_location}' to '{destination}'.\")\n",
    "    return None"
   ]
  },
  {
   "cell_type": "code",
   "execution_count": 5,
   "metadata": {},
   "outputs": [],
   "source": [
    "# Representing a simplified city map\n",
    "city_map = {\n",
    "    'Home': ['Park', 'Library'],\n",
    "    'Park': ['Home', 'Coffee Shop', 'Mall'],\n",
    "    'Library': ['Home', 'School', 'Bookstore'],\n",
    "    'Coffee Shop': ['Park', 'Mall'],\n",
    "    'School': ['Library', 'Museum'],\n",
    "    'Mall': ['Park', 'Coffee Shop', 'Cinema'],\n",
    "    'Bookstore': ['Library'],\n",
    "    'Museum': ['School'],\n",
    "    'Cinema': ['Mall']\n",
    "}"
   ]
  },
  {
   "cell_type": "code",
   "execution_count": 6,
   "metadata": {},
   "outputs": [
    {
     "name": "stdout",
     "output_type": "stream",
     "text": [
      "--- Scenario 1: Shortest route from Home to Cinema ---\n",
      "Starting route search from 'Home' to 'Cinema'...\n",
      "  Exploring from: Home (Path so far: ['Home'])\n",
      "    Adding neighbor: Park (New path: ['Home', 'Park'])\n",
      "    Adding neighbor: Library (New path: ['Home', 'Library'])\n",
      "  Exploring from: Park (Path so far: ['Home', 'Park'])\n",
      "    Adding neighbor: Coffee Shop (New path: ['Home', 'Park', 'Coffee Shop'])\n",
      "    Adding neighbor: Mall (New path: ['Home', 'Park', 'Mall'])\n",
      "  Exploring from: Library (Path so far: ['Home', 'Library'])\n",
      "    Adding neighbor: School (New path: ['Home', 'Library', 'School'])\n",
      "    Adding neighbor: Bookstore (New path: ['Home', 'Library', 'Bookstore'])\n",
      "  Exploring from: Coffee Shop (Path so far: ['Home', 'Park', 'Coffee Shop'])\n",
      "  Exploring from: Mall (Path so far: ['Home', 'Park', 'Mall'])\n",
      "    Adding neighbor: Cinema (New path: ['Home', 'Park', 'Mall', 'Cinema'])\n",
      "  Exploring from: School (Path so far: ['Home', 'Library', 'School'])\n",
      "    Adding neighbor: Museum (New path: ['Home', 'Library', 'School', 'Museum'])\n",
      "  Exploring from: Bookstore (Path so far: ['Home', 'Library', 'Bookstore'])\n",
      "  Exploring from: Cinema (Path so far: ['Home', 'Park', 'Mall', 'Cinema'])\n",
      "  Destination 'Cinema' reached!\n",
      "\n",
      "Shortest route from Home to Cinema: Home -> Park -> Mall -> Cinema\n"
     ]
    }
   ],
   "source": [
    "print(\"--- Scenario 1: Shortest route from Home to Cinema ---\")\n",
    "route1 = find_shortest_route(city_map, 'Home', 'Cinema')\n",
    "if route1:\n",
    "    print(f\"\\nShortest route from Home to Cinema: {' -> '.join(route1)}\")\n",
    "else:\n",
    "    print(\"\\nCould not find a route.\")"
   ]
  }
 ],
 "metadata": {
  "kernelspec": {
   "display_name": "Python 3",
   "language": "python",
   "name": "python3"
  },
  "language_info": {
   "codemirror_mode": {
    "name": "ipython",
    "version": 3
   },
   "file_extension": ".py",
   "mimetype": "text/x-python",
   "name": "python",
   "nbconvert_exporter": "python",
   "pygments_lexer": "ipython3",
   "version": "3.12.0"
  }
 },
 "nbformat": 4,
 "nbformat_minor": 2
}
