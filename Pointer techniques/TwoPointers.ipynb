{
 "cells": [
  {
   "cell_type": "markdown",
   "metadata": {},
   "source": [
    "## Two Pointers"
   ]
  },
  {
   "cell_type": "markdown",
   "metadata": {},
   "source": [
    "**Definition :** Two pointers is an approach to solve problems which are primarily related to string such as finding duplicates or identifying palindromes. "
   ]
  },
  {
   "cell_type": "code",
   "execution_count": 1,
   "metadata": {},
   "outputs": [],
   "source": [
    "s = 'hlyufujfvfvhju'"
   ]
  },
  {
   "cell_type": "markdown",
   "metadata": {},
   "source": [
    "In the above code, I have defined a string. Its longest substring with no same letters is 5 (the first 5 or the latest 5 characters)."
   ]
  },
  {
   "cell_type": "markdown",
   "metadata": {},
   "source": [
    "#### **Implementation**"
   ]
  },
  {
   "cell_type": "markdown",
   "metadata": {},
   "source": [
    "Two pointers are used L (left) and R (right) to define a sliding window. A dictionary is used to count characters and right is expanded while left is shrunk if a duplicate is found."
   ]
  },
  {
   "cell_type": "code",
   "execution_count": 2,
   "metadata": {},
   "outputs": [],
   "source": [
    "def lengthOfLongestSubstring(s):\n",
    "    seen_letters = {}\n",
    "    L, R = 0, 0\n",
    "    longest_substring = 0\n",
    "    while (R < len(s)):\n",
    "        seen_letters[s[R]] = seen_letters.get(s[R], 0) + 1\n",
    "        while (seen_letters[s[R]] > 1):\n",
    "            seen_letters[s[L]] -= 1\n",
    "            L += 1\n",
    "        cur_substr_len = R - L + 1\n",
    "        if (cur_substr_len > longest_substring):\n",
    "            longest_substring = cur_substr_len\n",
    "        R += 1\n",
    "    return longest_substring"
   ]
  },
  {
   "cell_type": "markdown",
   "metadata": {},
   "source": [
    "#### **Testing**"
   ]
  },
  {
   "cell_type": "markdown",
   "metadata": {},
   "source": [
    "We can check that the maximum substring length really is 5."
   ]
  },
  {
   "cell_type": "code",
   "execution_count": 3,
   "metadata": {},
   "outputs": [
    {
     "data": {
      "text/plain": [
       "5"
      ]
     },
     "execution_count": 3,
     "metadata": {},
     "output_type": "execute_result"
    }
   ],
   "source": [
    "lengthOfLongestSubstring(s)"
   ]
  }
 ],
 "metadata": {
  "kernelspec": {
   "display_name": "Python 3",
   "language": "python",
   "name": "python3"
  },
  "language_info": {
   "codemirror_mode": {
    "name": "ipython",
    "version": 3
   },
   "file_extension": ".py",
   "mimetype": "text/x-python",
   "name": "python",
   "nbconvert_exporter": "python",
   "pygments_lexer": "ipython3",
   "version": "3.12.0"
  }
 },
 "nbformat": 4,
 "nbformat_minor": 2
}
