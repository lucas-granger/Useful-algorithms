{
 "cells": [
  {
   "cell_type": "markdown",
   "metadata": {},
   "source": [
    "## Binary Search"
   ]
  },
  {
   "cell_type": "markdown",
   "metadata": {},
   "source": [
    "**Definition :** Binary Search goal is to find the position of a value efficiently in a sorted array"
   ]
  },
  {
   "cell_type": "code",
   "execution_count": 1,
   "metadata": {},
   "outputs": [],
   "source": [
    "sorted_list = [0, 5, 8, 9, 13, 15, 19, 24, 28, 54]"
   ]
  },
  {
   "cell_type": "markdown",
   "metadata": {},
   "source": [
    "In the above code, I have defined a sorted list, that I will use to test the binary search."
   ]
  },
  {
   "cell_type": "markdown",
   "metadata": {},
   "source": [
    "#### **Implementation**"
   ]
  },
  {
   "cell_type": "markdown",
   "metadata": {},
   "source": [
    "Here, we have an array and start with two \"pointers\" placed at the beginning and at the end of the array. Then, we divide the addition of the low and high index by 2 and get a new index. Then, if the value corresponding to this index is the target, the value is found.\n",
    "\n",
    "If the value is less than the target value, the low index will take the value of the middle index but if the middle value is more than the target value, the high index will take the value of the middle index. This step enables the range of search to be divided by two at each iteration."
   ]
  },
  {
   "cell_type": "code",
   "execution_count": 2,
   "metadata": {},
   "outputs": [],
   "source": [
    "def binary_search_iterative(arr, target):\n",
    "    low_idx = 0\n",
    "    high_idx = len(arr) - 1\n",
    "\n",
    "    while low_idx <= high_idx:\n",
    "        mid_idx = (low_idx + high_idx) // 2  # Integer division to find the middle index\n",
    "        if arr[mid_idx] == target:\n",
    "            return 'Value found index : ' + str(mid_idx)\n",
    "        elif arr[mid_idx] < target:\n",
    "            low_idx = mid_idx + 1\n",
    "        else:\n",
    "            high_idx = mid_idx - 1\n",
    "\n",
    "    return -1  # Target not found"
   ]
  },
  {
   "cell_type": "markdown",
   "metadata": {},
   "source": [
    "#### **Testing**"
   ]
  },
  {
   "cell_type": "markdown",
   "metadata": {},
   "source": [
    "We can check that the index of value 8 is 2 (3rd position) and that 12 is not in the array."
   ]
  },
  {
   "cell_type": "code",
   "execution_count": 3,
   "metadata": {},
   "outputs": [
    {
     "data": {
      "text/plain": [
       "'Value found index : 2'"
      ]
     },
     "execution_count": 3,
     "metadata": {},
     "output_type": "execute_result"
    }
   ],
   "source": [
    "binary_search_iterative(sorted_list, 8)"
   ]
  },
  {
   "cell_type": "code",
   "execution_count": 4,
   "metadata": {},
   "outputs": [
    {
     "data": {
      "text/plain": [
       "-1"
      ]
     },
     "execution_count": 4,
     "metadata": {},
     "output_type": "execute_result"
    }
   ],
   "source": [
    "binary_search_iterative(sorted_list, 12)"
   ]
  }
 ],
 "metadata": {
  "kernelspec": {
   "display_name": "Python 3",
   "language": "python",
   "name": "python3"
  },
  "language_info": {
   "codemirror_mode": {
    "name": "ipython",
    "version": 3
   },
   "file_extension": ".py",
   "mimetype": "text/x-python",
   "name": "python",
   "nbconvert_exporter": "python",
   "pygments_lexer": "ipython3",
   "version": "3.12.0"
  }
 },
 "nbformat": 4,
 "nbformat_minor": 2
}
